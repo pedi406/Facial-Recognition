{
 "cells": [
  {
   "cell_type": "markdown",
   "id": "5ba4b485",
   "metadata": {},
   "source": [
    "Import libraries"
   ]
  },
  {
   "cell_type": "code",
   "execution_count": 1,
   "id": "2df3960d",
   "metadata": {},
   "outputs": [],
   "source": [
    "import numpy as np\n",
    "import pandas as pd\n",
    "import os\n",
    "import tensorflow as tf\n",
    "from keras.preprocessing.image import ImageDataGenerator #load_img\n",
    "from keras.layers import Conv2D, Dense, BatchNormalization, Activation, Dropout, MaxPooling2D, Flatten\n",
    "from keras.optimizers import Adam, RMSprop, SGD\n",
    "from keras import regularizers\n",
    "from keras.callbacks import ModelCheckpoint, CSVLogger, TensorBoard, EarlyStopping, ReduceLROnPlateau\n",
    "import datetime\n",
    "import matplotlib.pyplot as plt\n",
    "from keras.utils import plot_model"
   ]
  },
  {
   "cell_type": "markdown",
   "id": "6c601759",
   "metadata": {},
   "source": [
    "Import dataset"
   ]
  },
  {
   "cell_type": "code",
   "execution_count": 2,
   "id": "033170e5",
   "metadata": {},
   "outputs": [],
   "source": [
    "train_dir = 'train/'\n",
    "test_dir = 'test/'"
   ]
  },
  {
   "cell_type": "code",
   "execution_count": 3,
   "id": "237233e8",
   "metadata": {},
   "outputs": [
    {
     "name": "stdout",
     "output_type": "stream",
     "text": [
      "       angry  disgust  fear  happy  neutral   sad  surprise\n",
      "train   3995      436  4097   7215     4965  4830      3171\n",
      "      angry  disgust  fear  happy  neutral   sad  surprise\n",
      "test    958      111  1024   1774     1233  1247       831\n"
     ]
    }
   ],
   "source": [
    "row, col = 48, 48\n",
    "classes = 7\n",
    "\n",
    "def count_exp(path, set_):\n",
    "    dict_ = {}\n",
    "    for expression in os.listdir(path):\n",
    "        dir_ = path + expression\n",
    "        dict_[expression] = len(os.listdir(dir_))\n",
    "    df = pd.DataFrame(dict_, index=[set_])\n",
    "    return df\n",
    "train_count = count_exp(train_dir, 'train')\n",
    "test_count = count_exp(test_dir, 'test')\n",
    "print(train_count)\n",
    "print(test_count)"
   ]
  },
  {
   "cell_type": "markdown",
   "id": "d7b1e958",
   "metadata": {},
   "source": [
    "Plot the number of images training set"
   ]
  },
  {
   "cell_type": "code",
   "execution_count": 4,
   "id": "505c85c1",
   "metadata": {},
   "outputs": [
    {
     "data": {
      "text/plain": [
       "<AxesSubplot:>"
      ]
     },
     "execution_count": 4,
     "metadata": {},
     "output_type": "execute_result"
    },
    {
     "data": {
      "image/png": "[encoded data removed]",
      "text/plain": [
       "<Figure size 432x288 with 1 Axes>"
      ]
     },
     "metadata": {
      "needs_background": "light"
     },
     "output_type": "display_data"
    }
   ],
   "source": [
    "train_count.transpose().plot(kind='bar')"
   ]
  },
  {
   "cell_type": "markdown",
   "id": "ac2c4469",
   "metadata": {},
   "source": [
    "Plot the number of images of test set"
   ]
  },
  {
   "cell_type": "code",
   "execution_count": 5,
   "id": "9ed18668",
   "metadata": {},
   "outputs": [
    {
     "data": {
      "text/plain": [
       "<AxesSubplot:>"
      ]
     },
     "execution_count": 5,
     "metadata": {},
     "output_type": "execute_result"
    },
    {
     "data": {
      "image/png": "[encoded data removed]",
      "text/plain": [
       "<Figure size 432x288 with 1 Axes>"
      ]
     },
     "metadata": {
      "needs_background": "light"
     },
     "output_type": "display_data"
    }
   ],
   "source": [
    "test_count.transpose().plot(kind='bar')"
   ]
  },
  {
   "cell_type": "code",
   "execution_count": 6,
   "id": "46edcb79",
   "metadata": {
    "scrolled": true
   },
   "outputs": [
    {
     "ename": "ImportError",
     "evalue": "cannot import name 'load_img' from 'keras.preprocessing' (C:\\Users\\pemaw\\anaconda3\\lib\\site-packages\\keras\\preprocessing\\__init__.py)",
     "output_type": "error",
     "traceback": [
      "\u001b[1;31m---------------------------------------------------------------------------\u001b[0m",
      "\u001b[1;31mImportError\u001b[0m                               Traceback (most recent call last)",
      "\u001b[1;32m~\\AppData\\Local\\Temp\\ipykernel_10352\\1871389495.py\u001b[0m in \u001b[0;36m<cell line: 1>\u001b[1;34m()\u001b[0m\n\u001b[1;32m----> 1\u001b[1;33m \u001b[1;32mfrom\u001b[0m \u001b[0mkeras\u001b[0m\u001b[1;33m.\u001b[0m\u001b[0mpreprocessing\u001b[0m \u001b[1;32mimport\u001b[0m \u001b[0mload_img\u001b[0m\u001b[1;33m\u001b[0m\u001b[1;33m\u001b[0m\u001b[0m\n\u001b[0m\u001b[0;32m      2\u001b[0m \u001b[0mplt\u001b[0m\u001b[1;33m.\u001b[0m\u001b[0mfigure\u001b[0m\u001b[1;33m(\u001b[0m\u001b[0mfigsize\u001b[0m\u001b[1;33m=\u001b[0m\u001b[1;33m(\u001b[0m\u001b[1;36m14\u001b[0m\u001b[1;33m,\u001b[0m\u001b[1;36m22\u001b[0m\u001b[1;33m)\u001b[0m\u001b[1;33m)\u001b[0m\u001b[1;33m\u001b[0m\u001b[1;33m\u001b[0m\u001b[0m\n\u001b[0;32m      3\u001b[0m \u001b[0mi\u001b[0m \u001b[1;33m=\u001b[0m \u001b[1;36m1\u001b[0m\u001b[1;33m\u001b[0m\u001b[1;33m\u001b[0m\u001b[0m\n\u001b[0;32m      4\u001b[0m \u001b[1;32mfor\u001b[0m \u001b[0mexpression\u001b[0m \u001b[1;32min\u001b[0m \u001b[0mos\u001b[0m\u001b[1;33m.\u001b[0m\u001b[0mlistdir\u001b[0m\u001b[1;33m(\u001b[0m\u001b[0mtrain_dir\u001b[0m\u001b[1;33m)\u001b[0m\u001b[1;33m:\u001b[0m\u001b[1;33m\u001b[0m\u001b[1;33m\u001b[0m\u001b[0m\n\u001b[0;32m      5\u001b[0m     \u001b[0mimg\u001b[0m \u001b[1;33m=\u001b[0m \u001b[0mload_img\u001b[0m\u001b[1;33m(\u001b[0m\u001b[1;33m(\u001b[0m\u001b[0mtrain_dir\u001b[0m \u001b[1;33m+\u001b[0m \u001b[0mexpression\u001b[0m \u001b[1;33m+\u001b[0m\u001b[1;34m'/'\u001b[0m\u001b[1;33m+\u001b[0m \u001b[0mos\u001b[0m\u001b[1;33m.\u001b[0m\u001b[0mlistdir\u001b[0m\u001b[1;33m(\u001b[0m\u001b[0mtrain_dir\u001b[0m \u001b[1;33m+\u001b[0m \u001b[0mexpression\u001b[0m\u001b[1;33m)\u001b[0m\u001b[1;33m[\u001b[0m\u001b[1;36m1\u001b[0m\u001b[1;33m]\u001b[0m\u001b[1;33m)\u001b[0m\u001b[1;33m)\u001b[0m\u001b[1;33m\u001b[0m\u001b[1;33m\u001b[0m\u001b[0m\n",
      "\u001b[1;31mImportError\u001b[0m: cannot import name 'load_img' from 'keras.preprocessing' (C:\\Users\\pemaw\\anaconda3\\lib\\site-packages\\keras\\preprocessing\\__init__.py)"
     ]
    }
   ],
   "source": [
    "from keras.preprocessing import load_img\n",
    "plt.figure(figsize=(14,22))\n",
    "i = 1\n",
    "for expression in os.listdir(train_dir):\n",
    "    img = load_img((train_dir + expression +'/'+ os.listdir(train_dir + expression)[1]))\n",
    "    plt.subplot(1,7,i)\n",
    "    plt.imshow(img)\n",
    "    plt.title(expression)\n",
    "    plt.axis('off')\n",
    "    i += 1\n",
    "plt.show()"
   ]
  },
  {
   "cell_type": "markdown",
   "id": "05c29628",
   "metadata": {},
   "source": [
    "Creating training and test set"
   ]
  },
  {
   "cell_type": "code",
   "execution_count": 7,
   "id": "720b3c61",
   "metadata": {},
   "outputs": [
    {
     "name": "stdout",
     "output_type": "stream",
     "text": [
      "Found 28709 images belonging to 7 classes.\n",
      "Found 7178 images belonging to 7 classes.\n"
     ]
    }
   ],
   "source": [
    "train_datagen = ImageDataGenerator(rescale=1./255,\n",
    "                                   zoom_range=0.3,\n",
    "                                   horizontal_flip=True)\n",
    "\n",
    "training_set = train_datagen.flow_from_directory(train_dir,\n",
    "                                                batch_size=64,\n",
    "                                                target_size=(48,48),\n",
    "                                                shuffle=True,\n",
    "                                                color_mode='grayscale',\n",
    "                                                class_mode='categorical')\n",
    "\n",
    "test_datagen = ImageDataGenerator(rescale=1./255)\n",
    "test_set = test_datagen.flow_from_directory(test_dir,\n",
    "                                                batch_size=64,\n",
    "                                                target_size=(48,48),\n",
    "                                                shuffle=True,\n",
    "                                                color_mode='grayscale',\n",
    "                                                class_mode='categorical')"
   ]
  },
  {
   "cell_type": "code",
   "execution_count": 8,
   "id": "4c66274d",
   "metadata": {},
   "outputs": [
    {
     "data": {
      "text/plain": [
       "{'angry': 0,\n",
       " 'disgust': 1,\n",
       " 'fear': 2,\n",
       " 'happy': 3,\n",
       " 'neutral': 4,\n",
       " 'sad': 5,\n",
       " 'surprise': 6}"
      ]
     },
     "execution_count": 8,
     "metadata": {},
     "output_type": "execute_result"
    }
   ],
   "source": [
    "training_set.class_indices"
   ]
  },
  {
   "cell_type": "markdown",
   "id": "197f8951",
   "metadata": {},
   "source": [
    "Defining model"
   ]
  },
  {
   "cell_type": "code",
   "execution_count": 9,
   "id": "13eb5312",
   "metadata": {},
   "outputs": [],
   "source": [
    "def get_model(input_size, classes=7):\n",
    "     #Initialising the CNN\n",
    "    model = tf.keras.models.Sequential()   \n",
    "\n",
    "    model.add(Conv2D(32, kernel_size=(3, 3), padding='same', activation='relu', input_shape =input_size))\n",
    "    model.add(Conv2D(64, kernel_size=(3, 3), activation='relu', padding='same'))\n",
    "    model.add(BatchNormalization())\n",
    "    model.add(MaxPooling2D(2, 2))\n",
    "    model.add(Dropout(0.25))\n",
    "\n",
    "    model.add(Conv2D(128, kernel_size=(3, 3), activation='relu', padding='same', kernel_regularizer=regularizers.l2(0.01)))\n",
    "    model.add(Conv2D(256, kernel_size=(3, 3), activation='relu', kernel_regularizer=regularizers.l2(0.01)))\n",
    "    model.add(BatchNormalization())\n",
    "    model.add(MaxPooling2D(pool_size=(2, 2)))\n",
    "    model.add(Dropout(0.25))\n",
    "\n",
    "    model.add(Flatten())\n",
    "    model.add(Dense(1024, activation='relu'))\n",
    "    model.add(Dropout(0.5))\n",
    "    \n",
    "    model.add(Dense(classes, activation='softmax'))\n",
    "\n",
    "    #Compliling the model\n",
    "    model.compile(optimizer=Adam(lr=0.0001, decay=1e-6), \n",
    "                  loss='categorical_crossentropy', \n",
    "                  metrics=['accuracy'])\n",
    "    return model"
   ]
  },
  {
   "cell_type": "code",
   "execution_count": 14,
   "id": "c5cf7679",
   "metadata": {},
   "outputs": [
    {
     "name": "stdout",
     "output_type": "stream",
     "text": [
      "Model: \"sequential_1\"\n",
      "_________________________________________________________________\n",
      " Layer (type)                Output Shape              Param #   \n",
      "=================================================================\n",
      " conv2d_4 (Conv2D)           (None, 48, 48, 32)        320       \n",
      "                                                                 \n",
      " conv2d_5 (Conv2D)           (None, 48, 48, 64)        18496     \n",
      "                                                                 \n",
      " batch_normalization_2 (Batc  (None, 48, 48, 64)       256       \n",
      " hNormalization)                                                 \n",
      "                                                                 \n",
      " max_pooling2d_2 (MaxPooling  (None, 24, 24, 64)       0         \n",
      " 2D)                                                             \n",
      "                                                                 \n",
      " dropout_3 (Dropout)         (None, 24, 24, 64)        0         \n",
      "                                                                 \n",
      " conv2d_6 (Conv2D)           (None, 24, 24, 128)       73856     \n",
      "                                                                 \n",
      " conv2d_7 (Conv2D)           (None, 22, 22, 256)       295168    \n",
      "                                                                 \n",
      " batch_normalization_3 (Batc  (None, 22, 22, 256)      1024      \n",
      " hNormalization)                                                 \n",
      "                                                                 \n",
      " max_pooling2d_3 (MaxPooling  (None, 11, 11, 256)      0         \n",
      " 2D)                                                             \n",
      "                                                                 \n",
      " dropout_4 (Dropout)         (None, 11, 11, 256)       0         \n",
      "                                                                 \n",
      " flatten_1 (Flatten)         (None, 30976)             0         \n",
      "                                                                 \n",
      " dense_2 (Dense)             (None, 1024)              31720448  \n",
      "                                                                 \n",
      " dropout_5 (Dropout)         (None, 1024)              0         \n",
      "                                                                 \n",
      " dense_3 (Dense)             (None, 7)                 7175      \n",
      "                                                                 \n",
      "=================================================================\n",
      "Total params: 32,116,743\n",
      "Trainable params: 32,116,103\n",
      "Non-trainable params: 640\n",
      "_________________________________________________________________\n"
     ]
    }
   ],
   "source": [
    "facial_model = get_model((row,col,1), classes)\n",
    "facial_model.summary()"
   ]
  },
  {
   "cell_type": "code",
   "execution_count": 31,
   "id": "3f9f5a5e",
   "metadata": {},
   "outputs": [
    {
     "name": "stdout",
     "output_type": "stream",
     "text": [
      "You must install pydot (`pip install pydot`) and install graphviz (see instructions at https://graphviz.gitlab.io/download/) for plot_model/model_to_dot to work.\n"
     ]
    }
   ],
   "source": [
    "import pydot\n",
    "from tensorflow import keras\n",
    "keras.utils.plot_model(facial_model)"
   ]
  },
  {
   "cell_type": "markdown",
   "id": "b404f7e1",
   "metadata": {},
   "source": [
    "Callbacks function"
   ]
  },
  {
   "cell_type": "code",
   "execution_count": 24,
   "id": "4e4fdb5d",
   "metadata": {},
   "outputs": [],
   "source": [
    "chk_path = 'facialModel.h5'\n",
    "log_dir = \"checkpoint/logs/\" + datetime.datetime.now().strftime(\"%Y%m%d-%H%M%S\")\n",
    "\n",
    "checkpoint = ModelCheckpoint(filepath=chk_path,\n",
    "                             save_best_only=True,\n",
    "                             verbose=1,\n",
    "                             mode='min',\n",
    "                             moniter='val_loss')\n",
    "\n",
    "earlystop = EarlyStopping(monitor='val_loss', \n",
    "                          min_delta=0, \n",
    "                          patience=3, \n",
    "                          verbose=1, \n",
    "                          restore_best_weights=True)\n",
    "                        \n",
    "reduce_lr = ReduceLROnPlateau(monitor='val_loss', \n",
    "                              factor=0.2, \n",
    "                              patience=6, \n",
    "                              verbose=1, \n",
    "                              min_delta=0.0001)\n",
    "\n",
    "\n",
    "tensorboard_callback = tf.keras.callbacks.TensorBoard(log_dir=log_dir, histogram_freq=1)\n",
    "csv_logger = CSVLogger('training.log')\n",
    "\n",
    "callbacks = [checkpoint, reduce_lr, csv_logger]"
   ]
  },
  {
   "cell_type": "markdown",
   "id": "440bf544",
   "metadata": {},
   "source": [
    "Training model"
   ]
  },
  {
   "cell_type": "code",
   "execution_count": 25,
   "id": "7f9578ac",
   "metadata": {},
   "outputs": [
    {
     "name": "stdout",
     "output_type": "stream",
     "text": [
      "Epoch 1/40\n",
      "448/448 [==============================] - ETA: 0s - loss: 4.2728 - accuracy: 0.2805\n",
      "Epoch 1: val_loss improved from inf to 7.86066, saving model to facialModel.h5\n",
      "448/448 [==============================] - 594s 1s/step - loss: 4.2728 - accuracy: 0.2805 - val_loss: 7.8607 - val_accuracy: 0.1747 - lr: 1.0000e-04\n",
      "Epoch 2/40\n",
      "448/448 [==============================] - ETA: 0s - loss: 3.4888 - accuracy: 0.3373\n",
      "Epoch 2: val_loss improved from 7.86066 to 3.08117, saving model to facialModel.h5\n",
      "448/448 [==============================] - 560s 1s/step - loss: 3.4888 - accuracy: 0.3373 - val_loss: 3.0812 - val_accuracy: 0.4132 - lr: 1.0000e-04\n",
      "Epoch 3/40\n",
      "448/448 [==============================] - ETA: 0s - loss: 2.9391 - accuracy: 0.3808\n",
      "Epoch 3: val_loss improved from 3.08117 to 2.64573, saving model to facialModel.h5\n",
      "448/448 [==============================] - 739s 2s/step - loss: 2.9391 - accuracy: 0.3808 - val_loss: 2.6457 - val_accuracy: 0.4343 - lr: 1.0000e-04\n",
      "Epoch 4/40\n",
      "448/448 [==============================] - ETA: 0s - loss: 2.5222 - accuracy: 0.4154\n",
      "Epoch 4: val_loss improved from 2.64573 to 2.24932, saving model to facialModel.h5\n",
      "448/448 [==============================] - 697s 2s/step - loss: 2.5222 - accuracy: 0.4154 - val_loss: 2.2493 - val_accuracy: 0.4661 - lr: 1.0000e-04\n",
      "Epoch 5/40\n",
      "448/448 [==============================] - ETA: 0s - loss: 2.1930 - accuracy: 0.4429\n",
      "Epoch 5: val_loss improved from 2.24932 to 1.98301, saving model to facialModel.h5\n",
      "448/448 [==============================] - 672s 1s/step - loss: 2.1930 - accuracy: 0.4429 - val_loss: 1.9830 - val_accuracy: 0.4798 - lr: 1.0000e-04\n",
      "Epoch 6/40\n",
      "448/448 [==============================] - ETA: 0s - loss: 1.9509 - accuracy: 0.4666\n",
      "Epoch 6: val_loss improved from 1.98301 to 1.76212, saving model to facialModel.h5\n",
      "448/448 [==============================] - 521s 1s/step - loss: 1.9509 - accuracy: 0.4666 - val_loss: 1.7621 - val_accuracy: 0.5149 - lr: 1.0000e-04\n",
      "Epoch 7/40\n",
      "448/448 [==============================] - ETA: 0s - loss: 1.7620 - accuracy: 0.4947\n",
      "Epoch 7: val_loss improved from 1.76212 to 1.61641, saving model to facialModel.h5\n",
      "448/448 [==============================] - 482s 1s/step - loss: 1.7620 - accuracy: 0.4947 - val_loss: 1.6164 - val_accuracy: 0.5273 - lr: 1.0000e-04\n",
      "Epoch 8/40\n",
      "448/448 [==============================] - ETA: 0s - loss: 1.6214 - accuracy: 0.5134\n",
      "Epoch 8: val_loss improved from 1.61641 to 1.48141, saving model to facialModel.h5\n",
      "448/448 [==============================] - 524s 1s/step - loss: 1.6214 - accuracy: 0.5134 - val_loss: 1.4814 - val_accuracy: 0.5499 - lr: 1.0000e-04\n",
      "Epoch 9/40\n",
      "448/448 [==============================] - ETA: 0s - loss: 1.5098 - accuracy: 0.5318\n",
      "Epoch 9: val_loss improved from 1.48141 to 1.39890, saving model to facialModel.h5\n",
      "448/448 [==============================] - 585s 1s/step - loss: 1.5098 - accuracy: 0.5318 - val_loss: 1.3989 - val_accuracy: 0.5646 - lr: 1.0000e-04\n",
      "Epoch 10/40\n",
      "448/448 [==============================] - ETA: 0s - loss: 1.4183 - accuracy: 0.5519\n",
      "Epoch 10: val_loss improved from 1.39890 to 1.32460, saving model to facialModel.h5\n",
      "448/448 [==============================] - 490s 1s/step - loss: 1.4183 - accuracy: 0.5519 - val_loss: 1.3246 - val_accuracy: 0.5801 - lr: 1.0000e-04\n",
      "Epoch 11/40\n",
      "448/448 [==============================] - ETA: 0s - loss: 1.3560 - accuracy: 0.5612\n",
      "Epoch 11: val_loss improved from 1.32460 to 1.27961, saving model to facialModel.h5\n",
      "448/448 [==============================] - 483s 1s/step - loss: 1.3560 - accuracy: 0.5612 - val_loss: 1.2796 - val_accuracy: 0.5866 - lr: 1.0000e-04\n",
      "Epoch 12/40\n",
      "448/448 [==============================] - ETA: 0s - loss: 1.2900 - accuracy: 0.5757\n",
      "Epoch 12: val_loss improved from 1.27961 to 1.24626, saving model to facialModel.h5\n",
      "448/448 [==============================] - 492s 1s/step - loss: 1.2900 - accuracy: 0.5757 - val_loss: 1.2463 - val_accuracy: 0.5931 - lr: 1.0000e-04\n",
      "Epoch 13/40\n",
      "448/448 [==============================] - ETA: 0s - loss: 1.2472 - accuracy: 0.5855\n",
      "Epoch 13: val_loss improved from 1.24626 to 1.22336, saving model to facialModel.h5\n",
      "448/448 [==============================] - 547s 1s/step - loss: 1.2472 - accuracy: 0.5855 - val_loss: 1.2234 - val_accuracy: 0.5901 - lr: 1.0000e-04\n",
      "Epoch 14/40\n",
      "448/448 [==============================] - ETA: 0s - loss: 1.2022 - accuracy: 0.5996\n",
      "Epoch 14: val_loss improved from 1.22336 to 1.17485, saving model to facialModel.h5\n",
      "448/448 [==============================] - 555s 1s/step - loss: 1.2022 - accuracy: 0.5996 - val_loss: 1.1749 - val_accuracy: 0.6028 - lr: 1.0000e-04\n",
      "Epoch 15/40\n",
      "448/448 [==============================] - ETA: 0s - loss: 1.1605 - accuracy: 0.6137\n",
      "Epoch 15: val_loss did not improve from 1.17485\n",
      "448/448 [==============================] - 614s 1s/step - loss: 1.1605 - accuracy: 0.6137 - val_loss: 1.2002 - val_accuracy: 0.6023 - lr: 1.0000e-04\n",
      "Epoch 16/40\n",
      "448/448 [==============================] - ETA: 0s - loss: 1.1357 - accuracy: 0.6184\n",
      "Epoch 16: val_loss improved from 1.17485 to 1.14459, saving model to facialModel.h5\n",
      "448/448 [==============================] - 617s 1s/step - loss: 1.1357 - accuracy: 0.6184 - val_loss: 1.1446 - val_accuracy: 0.6187 - lr: 1.0000e-04\n",
      "Epoch 17/40\n",
      "448/448 [==============================] - ETA: 0s - loss: 1.0987 - accuracy: 0.6297\n",
      "Epoch 17: val_loss did not improve from 1.14459\n",
      "448/448 [==============================] - 626s 1s/step - loss: 1.0987 - accuracy: 0.6297 - val_loss: 1.1649 - val_accuracy: 0.6060 - lr: 1.0000e-04\n",
      "Epoch 18/40\n",
      "448/448 [==============================] - ETA: 0s - loss: 1.0803 - accuracy: 0.6345\n",
      "Epoch 18: val_loss improved from 1.14459 to 1.13786, saving model to facialModel.h5\n",
      "448/448 [==============================] - 539s 1s/step - loss: 1.0803 - accuracy: 0.6345 - val_loss: 1.1379 - val_accuracy: 0.6175 - lr: 1.0000e-04\n",
      "Epoch 19/40\n",
      "448/448 [==============================] - ETA: 0s - loss: 1.0482 - accuracy: 0.6451\n",
      "Epoch 19: val_loss improved from 1.13786 to 1.09855, saving model to facialModel.h5\n",
      "448/448 [==============================] - 543s 1s/step - loss: 1.0482 - accuracy: 0.6451 - val_loss: 1.0985 - val_accuracy: 0.6299 - lr: 1.0000e-04\n",
      "Epoch 20/40\n",
      "448/448 [==============================] - ETA: 0s - loss: 1.0215 - accuracy: 0.6587\n",
      "Epoch 20: val_loss did not improve from 1.09855\n",
      "448/448 [==============================] - 535s 1s/step - loss: 1.0215 - accuracy: 0.6587 - val_loss: 1.1178 - val_accuracy: 0.6306 - lr: 1.0000e-04\n",
      "Epoch 21/40\n",
      "448/448 [==============================] - ETA: 0s - loss: 0.9979 - accuracy: 0.6659\n",
      "Epoch 21: val_loss did not improve from 1.09855\n",
      "448/448 [==============================] - 543s 1s/step - loss: 0.9979 - accuracy: 0.6659 - val_loss: 1.0998 - val_accuracy: 0.6311 - lr: 1.0000e-04\n",
      "Epoch 22/40\n",
      "448/448 [==============================] - ETA: 0s - loss: 0.9742 - accuracy: 0.6730\n",
      "Epoch 22: val_loss did not improve from 1.09855\n",
      "448/448 [==============================] - 501s 1s/step - loss: 0.9742 - accuracy: 0.6730 - val_loss: 1.1109 - val_accuracy: 0.6313 - lr: 1.0000e-04\n",
      "Epoch 23/40\n",
      "448/448 [==============================] - ETA: 0s - loss: 0.9479 - accuracy: 0.6890\n",
      "Epoch 23: val_loss improved from 1.09855 to 1.09621, saving model to facialModel.h5\n",
      "448/448 [==============================] - 528s 1s/step - loss: 0.9479 - accuracy: 0.6890 - val_loss: 1.0962 - val_accuracy: 0.6399 - lr: 1.0000e-04\n",
      "Epoch 24/40\n",
      "448/448 [==============================] - ETA: 0s - loss: 0.9324 - accuracy: 0.6913\n",
      "Epoch 24: val_loss did not improve from 1.09621\n",
      "448/448 [==============================] - 618s 1s/step - loss: 0.9324 - accuracy: 0.6913 - val_loss: 1.0994 - val_accuracy: 0.6303 - lr: 1.0000e-04\n",
      "Epoch 25/40\n",
      "448/448 [==============================] - ETA: 0s - loss: 0.9083 - accuracy: 0.6995\n",
      "Epoch 25: val_loss did not improve from 1.09621\n",
      "448/448 [==============================] - 532s 1s/step - loss: 0.9083 - accuracy: 0.6995 - val_loss: 1.1174 - val_accuracy: 0.6289 - lr: 1.0000e-04\n",
      "Epoch 26/40\n",
      "448/448 [==============================] - ETA: 0s - loss: 0.8880 - accuracy: 0.7051\n",
      "Epoch 26: val_loss improved from 1.09621 to 1.09522, saving model to facialModel.h5\n",
      "448/448 [==============================] - 539s 1s/step - loss: 0.8880 - accuracy: 0.7051 - val_loss: 1.0952 - val_accuracy: 0.6346 - lr: 1.0000e-04\n"
     ]
    },
    {
     "name": "stdout",
     "output_type": "stream",
     "text": [
      "Epoch 27/40\n",
      "448/448 [==============================] - ETA: 0s - loss: 0.8713 - accuracy: 0.7140\n",
      "Epoch 27: val_loss improved from 1.09522 to 1.09045, saving model to facialModel.h5\n",
      "448/448 [==============================] - 627s 1s/step - loss: 0.8713 - accuracy: 0.7140 - val_loss: 1.0904 - val_accuracy: 0.6384 - lr: 1.0000e-04\n",
      "Epoch 28/40\n",
      "448/448 [==============================] - ETA: 0s - loss: 0.8547 - accuracy: 0.7216\n",
      "Epoch 28: val_loss improved from 1.09045 to 1.08107, saving model to facialModel.h5\n",
      "448/448 [==============================] - 517s 1s/step - loss: 0.8547 - accuracy: 0.7216 - val_loss: 1.0811 - val_accuracy: 0.6431 - lr: 1.0000e-04\n",
      "Epoch 29/40\n",
      "448/448 [==============================] - ETA: 0s - loss: 0.8344 - accuracy: 0.7304\n",
      "Epoch 29: val_loss did not improve from 1.08107\n",
      "448/448 [==============================] - 515s 1s/step - loss: 0.8344 - accuracy: 0.7304 - val_loss: 1.0940 - val_accuracy: 0.6429 - lr: 1.0000e-04\n",
      "Epoch 30/40\n",
      "448/448 [==============================] - ETA: 0s - loss: 0.8178 - accuracy: 0.7315\n",
      "Epoch 30: val_loss did not improve from 1.08107\n",
      "448/448 [==============================] - 513s 1s/step - loss: 0.8178 - accuracy: 0.7315 - val_loss: 1.0951 - val_accuracy: 0.6462 - lr: 1.0000e-04\n",
      "Epoch 31/40\n",
      "448/448 [==============================] - ETA: 0s - loss: 0.7994 - accuracy: 0.7382\n",
      "Epoch 31: val_loss did not improve from 1.08107\n",
      "448/448 [==============================] - 535s 1s/step - loss: 0.7994 - accuracy: 0.7382 - val_loss: 1.1517 - val_accuracy: 0.6370 - lr: 1.0000e-04\n",
      "Epoch 32/40\n",
      "448/448 [==============================] - ETA: 0s - loss: 0.7842 - accuracy: 0.7448\n",
      "Epoch 32: val_loss did not improve from 1.08107\n",
      "448/448 [==============================] - 511s 1s/step - loss: 0.7842 - accuracy: 0.7448 - val_loss: 1.1968 - val_accuracy: 0.6346 - lr: 1.0000e-04\n",
      "Epoch 33/40\n",
      "448/448 [==============================] - ETA: 0s - loss: 0.7712 - accuracy: 0.7511\n",
      "Epoch 33: val_loss did not improve from 1.08107\n",
      "448/448 [==============================] - 487s 1s/step - loss: 0.7712 - accuracy: 0.7511 - val_loss: 1.1148 - val_accuracy: 0.6413 - lr: 1.0000e-04\n",
      "Epoch 34/40\n",
      "448/448 [==============================] - ETA: 0s - loss: 0.7564 - accuracy: 0.7564\n",
      "Epoch 34: val_loss did not improve from 1.08107\n",
      "\n",
      "Epoch 34: ReduceLROnPlateau reducing learning rate to 1.9999999494757503e-05.\n",
      "448/448 [==============================] - 632s 1s/step - loss: 0.7564 - accuracy: 0.7564 - val_loss: 1.1205 - val_accuracy: 0.6454 - lr: 1.0000e-04\n",
      "Epoch 35/40\n",
      "448/448 [==============================] - ETA: 0s - loss: 0.6931 - accuracy: 0.7779\n",
      "Epoch 35: val_loss did not improve from 1.08107\n",
      "448/448 [==============================] - 527s 1s/step - loss: 0.6931 - accuracy: 0.7779 - val_loss: 1.1048 - val_accuracy: 0.6562 - lr: 2.0000e-05\n",
      "Epoch 36/40\n",
      "448/448 [==============================] - ETA: 0s - loss: 0.6694 - accuracy: 0.7877\n",
      "Epoch 36: val_loss did not improve from 1.08107\n",
      "448/448 [==============================] - 506s 1s/step - loss: 0.6694 - accuracy: 0.7877 - val_loss: 1.1094 - val_accuracy: 0.6586 - lr: 2.0000e-05\n",
      "Epoch 37/40\n",
      "448/448 [==============================] - ETA: 0s - loss: 0.6563 - accuracy: 0.7913\n",
      "Epoch 37: val_loss did not improve from 1.08107\n",
      "448/448 [==============================] - 503s 1s/step - loss: 0.6563 - accuracy: 0.7913 - val_loss: 1.1139 - val_accuracy: 0.6596 - lr: 2.0000e-05\n",
      "Epoch 38/40\n",
      "448/448 [==============================] - ETA: 0s - loss: 0.6434 - accuracy: 0.7989\n",
      "Epoch 38: val_loss did not improve from 1.08107\n",
      "448/448 [==============================] - 534s 1s/step - loss: 0.6434 - accuracy: 0.7989 - val_loss: 1.1306 - val_accuracy: 0.6599 - lr: 2.0000e-05\n",
      "Epoch 39/40\n",
      "448/448 [==============================] - ETA: 0s - loss: 0.6239 - accuracy: 0.8047\n",
      "Epoch 39: val_loss did not improve from 1.08107\n",
      "448/448 [==============================] - 644s 1s/step - loss: 0.6239 - accuracy: 0.8047 - val_loss: 1.1296 - val_accuracy: 0.6576 - lr: 2.0000e-05\n",
      "Epoch 40/40\n",
      "448/448 [==============================] - ETA: 0s - loss: 0.6223 - accuracy: 0.8072\n",
      "Epoch 40: val_loss did not improve from 1.08107\n",
      "\n",
      "Epoch 40: ReduceLROnPlateau reducing learning rate to 3.999999898951501e-06.\n",
      "448/448 [==============================] - 529s 1s/step - loss: 0.6223 - accuracy: 0.8072 - val_loss: 1.1218 - val_accuracy: 0.6602 - lr: 2.0000e-05\n"
     ]
    }
   ],
   "source": [
    "steps_per_epoch = training_set.n // training_set.batch_size\n",
    "validation_steps = test_set.n // test_set.batch_size\n",
    "\n",
    "hist = facial_model.fit(x=training_set,\n",
    "                 validation_data=test_set,\n",
    "                 epochs=40,\n",
    "                 callbacks=callbacks,\n",
    "                 steps_per_epoch=steps_per_epoch,\n",
    "                 validation_steps=validation_steps)"
   ]
  },
  {
   "cell_type": "markdown",
   "id": "c852db1c",
   "metadata": {},
   "source": [
    "Loss and accuracy plot"
   ]
  },
  {
   "cell_type": "code",
   "execution_count": 26,
   "id": "5f6c341f",
   "metadata": {},
   "outputs": [
    {
     "data": {
      "image/png": "[encoded data removed]",
      "text/plain": [
       "<Figure size 1008x360 with 2 Axes>"
      ]
     },
     "metadata": {
      "needs_background": "light"
     },
     "output_type": "display_data"
    }
   ],
   "source": [
    "plt.figure(figsize=(14,5))\n",
    "plt.subplot(1,2,2)\n",
    "plt.plot(hist.history['accuracy'])\n",
    "plt.plot(hist.history['val_accuracy'])\n",
    "plt.title('Model Accuracy')\n",
    "plt.xlabel('Epochs')\n",
    "plt.ylabel('Accuracy')\n",
    "plt.legend(['train', 'test'], loc='upper left')\n",
    "\n",
    "plt.subplot(1,2,1)\n",
    "plt.plot(hist.history['loss'])\n",
    "plt.plot(hist.history['val_loss'])\n",
    "plt.title('model Loss')\n",
    "plt.xlabel('Epochs')\n",
    "plt.ylabel('Loss')\n",
    "plt.legend(['train', 'test'], loc='upper left')\n",
    "plt.show()"
   ]
  },
  {
   "cell_type": "markdown",
   "id": "5a395f53",
   "metadata": {},
   "source": [
    "Model Evaluation"
   ]
  },
  {
   "cell_type": "code",
   "execution_count": 27,
   "id": "671430a2",
   "metadata": {},
   "outputs": [
    {
     "name": "stdout",
     "output_type": "stream",
     "text": [
      "449/449 [==============================] - 123s 273ms/step - loss: 0.4479 - accuracy: 0.8832\n",
      "113/113 [==============================] - 28s 246ms/step - loss: 1.1215 - accuracy: 0.6604\n",
      "final train accuracy = 88.32 , validation accuracy = 66.04\n"
     ]
    }
   ],
   "source": [
    "train_loss, train_accu = facial_model.evaluate(training_set)\n",
    "test_loss, test_accu = facial_model.evaluate(test_set)\n",
    "print(\"final train accuracy = {:.2f} , validation accuracy = {:.2f}\".format(train_accu*100, test_accu*100))"
   ]
  },
  {
   "cell_type": "code",
   "execution_count": 28,
   "id": "62612f9b",
   "metadata": {},
   "outputs": [],
   "source": [
    "facial_model.save_weights('model.h5')"
   ]
  },
  {
   "cell_type": "markdown",
   "id": "03c2e55d",
   "metadata": {},
   "source": [
    "Confusion matrix and Classification on training set"
   ]
  },
  {
   "cell_type": "code",
   "execution_count": 29,
   "id": "252adf5f",
   "metadata": {},
   "outputs": [
    {
     "name": "stdout",
     "output_type": "stream",
     "text": [
      "449/449 [==============================] - 213s 461ms/step\n",
      "Confusion Matrix\n",
      "[[ 525   49  513 1032  746  676  454]\n",
      " [  49    4   56  114   79   84   50]\n",
      " [ 511   65  535 1072  720  711  483]\n",
      " [ 980  103  957 1808 1292 1260  815]\n",
      " [ 669   61  691 1300  894  829  521]\n",
      " [ 666   70  635 1253  885  808  513]\n",
      " [ 424   50  406  828  501  589  373]]\n",
      "Classification Report\n",
      "              precision    recall  f1-score   support\n",
      "\n",
      "       angry       0.14      0.13      0.13      3995\n",
      "     disgust       0.01      0.01      0.01       436\n",
      "        fear       0.14      0.13      0.14      4097\n",
      "       happy       0.24      0.25      0.25      7215\n",
      "     neutral       0.17      0.18      0.18      4965\n",
      "         sad       0.16      0.17      0.17      4830\n",
      "    surprise       0.12      0.12      0.12      3171\n",
      "\n",
      "    accuracy                           0.17     28709\n",
      "   macro avg       0.14      0.14      0.14     28709\n",
      "weighted avg       0.17      0.17      0.17     28709\n",
      "\n"
     ]
    },
    {
     "data": {
      "image/png": "[encoded data removed]",
      "text/plain": [
       "<Figure size 576x576 with 2 Axes>"
      ]
     },
     "metadata": {
      "needs_background": "light"
     },
     "output_type": "display_data"
    }
   ],
   "source": [
    "y_pred = facial_model.predict(training_set)\n",
    "y_pred = np.argmax(y_pred, axis=1)\n",
    "class_labels = test_set.class_indices\n",
    "class_labels = {v:k for k,v in class_labels.items()}\n",
    "\n",
    "from sklearn.metrics import classification_report, confusion_matrix\n",
    "cm_train = confusion_matrix(training_set.classes, y_pred)\n",
    "print('Confusion Matrix')\n",
    "print(cm_train)\n",
    "print('Classification Report')\n",
    "target_names = list(class_labels.values())\n",
    "print(classification_report(training_set.classes, y_pred, target_names=target_names))\n",
    "\n",
    "plt.figure(figsize=(8,8))\n",
    "plt.imshow(cm_train, interpolation='nearest')\n",
    "plt.colorbar()\n",
    "tick_mark = np.arange(len(target_names))\n",
    "_ = plt.xticks(tick_mark, target_names, rotation=90)\n",
    "_ = plt.yticks(tick_mark, target_names)"
   ]
  },
  {
   "cell_type": "markdown",
   "id": "46a7d4b7",
   "metadata": {},
   "source": [
    "Confusion matrix matrix and classification on test set"
   ]
  },
  {
   "cell_type": "code",
   "execution_count": 30,
   "id": "9418b9b7",
   "metadata": {},
   "outputs": [
    {
     "name": "stdout",
     "output_type": "stream",
     "text": [
      "113/113 [==============================] - 99s 885ms/step\n",
      "Confusion Matrix\n",
      "[[127   4 121 245 191 175  95]\n",
      " [ 12   0  18  19  34  17  11]\n",
      " [159   9 112 229 188 201 126]\n",
      " [261  27 207 445 317 311 206]\n",
      " [179  16 152 308 207 229 142]\n",
      " [189   7 135 323 236 217 140]\n",
      " [111   5  95 220 155 141 104]]\n",
      "Classification Report\n",
      "              precision    recall  f1-score   support\n",
      "\n",
      "       angry       0.12      0.13      0.13       958\n",
      "     disgust       0.00      0.00      0.00       111\n",
      "        fear       0.13      0.11      0.12      1024\n",
      "       happy       0.25      0.25      0.25      1774\n",
      "     neutral       0.16      0.17      0.16      1233\n",
      "         sad       0.17      0.17      0.17      1247\n",
      "    surprise       0.13      0.13      0.13       831\n",
      "\n",
      "    accuracy                           0.17      7178\n",
      "   macro avg       0.14      0.14      0.14      7178\n",
      "weighted avg       0.17      0.17      0.17      7178\n",
      "\n"
     ]
    },
    {
     "data": {
      "image/png": "[encoded data removed]",
      "text/plain": [
       "<Figure size 576x576 with 2 Axes>"
      ]
     },
     "metadata": {
      "needs_background": "light"
     },
     "output_type": "display_data"
    }
   ],
   "source": [
    "y_pred = facial_model.predict(test_set)\n",
    "y_pred = np.argmax(y_pred, axis=1)\n",
    "class_labels = test_set.class_indices\n",
    "class_labels = {v:k for k,v in class_labels.items()}\n",
    "\n",
    "#from sklearn.metrics import classification_report, confusion_matrix\n",
    "cm_test = confusion_matrix(test_set.classes, y_pred)\n",
    "print('Confusion Matrix')\n",
    "print(cm_test)\n",
    "print('Classification Report')\n",
    "target_names = list(class_labels.values())\n",
    "print(classification_report(test_set.classes, y_pred, target_names=target_names))\n",
    "\n",
    "plt.figure(figsize=(8,8))\n",
    "plt.imshow(cm_test, interpolation='nearest')\n",
    "plt.colorbar()\n",
    "tick_mark = np.arange(len(target_names))\n",
    "_ = plt.xticks(tick_mark, target_names, rotation=90)\n",
    "_ = plt.yticks(tick_mark, target_names)"
   ]
  },
  {
   "cell_type": "code",
   "execution_count": null,
   "id": "85f587e5",
   "metadata": {},
   "outputs": [],
   "source": []
  }
 ],
 "metadata": {
  "kernelspec": {
   "display_name": "Python 3 (ipykernel)",
   "language": "python",
   "name": "python3"
  },
  "language_info": {
   "codemirror_mode": {
    "name": "ipython",
    "version": 3
   },
   "file_extension": ".py",
   "mimetype": "text/x-python",
   "name": "python",
   "nbconvert_exporter": "python",
   "pygments_lexer": "ipython3",
   "version": "3.9.12"
  }
 },
 "nbformat": 4,
 "nbformat_minor": 5
}
